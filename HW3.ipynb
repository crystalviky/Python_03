{
 "cells": [
  {
   "cell_type": "markdown",
   "metadata": {},
   "source": [
    "## Задание 1\n",
    "Дан список вида:\n",
    "data = [\n",
    "\t[13, 25, 23, 34],\n",
    "\t[45, 32, 44, 47],\n",
    "\t[12, 33, 23, 95],\n",
    "\t[13, 53, 34, 35],\n",
    "]\n",
    "\n",
    "Напишите функцию, которая возвращает сумму элементов на диагонали. Т. е. 13+32+23+35."
   ]
  },
  {
   "cell_type": "code",
   "execution_count": 1,
   "metadata": {},
   "outputs": [],
   "source": [
    "data = [\n",
    "\t[13, 25, 23, 34],\n",
    "\t[45, 32, 44, 47],\n",
    "\t[12, 33, 23, 95],\n",
    "\t[13, 53, 34, 35],\n",
    "]"
   ]
  },
  {
   "cell_type": "code",
   "execution_count": 2,
   "metadata": {},
   "outputs": [
    {
     "name": "stdout",
     "output_type": "stream",
     "text": [
      "13\n"
     ]
    }
   ],
   "source": [
    "print(data[0][0])"
   ]
  },
  {
   "cell_type": "code",
   "execution_count": 5,
   "metadata": {},
   "outputs": [],
   "source": [
    "def sum_diagonal(spisok):\n",
    "    summ = 0\n",
    "    for i in range(len(spisok)):\n",
    "        summ += spisok[i][i]\n",
    "    return summ"
   ]
  },
  {
   "cell_type": "code",
   "execution_count": 6,
   "metadata": {},
   "outputs": [
    {
     "data": {
      "text/plain": [
       "103"
      ]
     },
     "execution_count": 6,
     "metadata": {},
     "output_type": "execute_result"
    }
   ],
   "source": [
    "sum_diagonal(data)"
   ]
  },
  {
   "cell_type": "markdown",
   "metadata": {},
   "source": [
    "## Задание 2\n",
    "Дан список чисел, часть из которых имеют строковый тип или содержат буквы. Напишите функцию, которая возвращает сумму квадратов элементов, которые могут быть числами.\n",
    "data = [1, '5', 'abc', 20, '2']\n"
   ]
  },
  {
   "cell_type": "code",
   "execution_count": 11,
   "metadata": {},
   "outputs": [],
   "source": [
    "data2 = [1, '5', 'abc', 20, '2']"
   ]
  },
  {
   "cell_type": "code",
   "execution_count": 19,
   "metadata": {},
   "outputs": [],
   "source": [
    "def sum_squared_num(spisok):\n",
    "    summ = 0\n",
    "    for i in range(len(spisok)):\n",
    "        try:\n",
    "            summ += int(spisok[i])**2\n",
    "        except ValueError:\n",
    "            print('Wrong data type ({})'.format(spisok[i]))\n",
    "    return summ"
   ]
  },
  {
   "cell_type": "code",
   "execution_count": 20,
   "metadata": {},
   "outputs": [
    {
     "name": "stdout",
     "output_type": "stream",
     "text": [
      "Wrong data type (abc)\n"
     ]
    },
    {
     "data": {
      "text/plain": [
       "430"
      ]
     },
     "execution_count": 20,
     "metadata": {},
     "output_type": "execute_result"
    }
   ],
   "source": [
    "sum_squared_num(data2)"
   ]
  },
  {
   "cell_type": "markdown",
   "metadata": {},
   "source": [
    "## Задание 3\n",
    "Напишите функцию, которая возвращает название валюты (поле 'Name') с максимальным значением курса с помощью сервиса https://www.cbr-xml-daily.ru/daily_json.js\n"
   ]
  },
  {
   "cell_type": "code",
   "execution_count": 22,
   "metadata": {},
   "outputs": [],
   "source": [
    "import requests"
   ]
  },
  {
   "cell_type": "code",
   "execution_count": 44,
   "metadata": {},
   "outputs": [],
   "source": [
    "def get_valute_name(url):\n",
    "    r = requests.get(url)\n",
    "    responce = r.json()['Valute']\n",
    "    for value in responce.values():\n",
    "        print(value['Name'])\n",
    "    return"
   ]
  },
  {
   "cell_type": "code",
   "execution_count": 45,
   "metadata": {},
   "outputs": [],
   "source": [
    "url = 'https://www.cbr-xml-daily.ru/daily_json.js'"
   ]
  },
  {
   "cell_type": "code",
   "execution_count": 46,
   "metadata": {},
   "outputs": [
    {
     "name": "stdout",
     "output_type": "stream",
     "text": [
      "Австралийский доллар\n",
      "Азербайджанский манат\n",
      "Фунт стерлингов Соединенного королевства\n",
      "Армянских драмов\n",
      "Белорусский рубль\n",
      "Болгарский лев\n",
      "Бразильский реал\n",
      "Венгерских форинтов\n",
      "Гонконгских долларов\n",
      "Датских крон\n",
      "Доллар США\n",
      "Евро\n",
      "Индийских рупий\n",
      "Казахстанских тенге\n",
      "Канадский доллар\n",
      "Киргизских сомов\n",
      "Китайских юаней\n",
      "Молдавских леев\n",
      "Норвежских крон\n",
      "Польский злотый\n",
      "Румынский лей\n",
      "СДР (специальные права заимствования)\n",
      "Сингапурский доллар\n",
      "Таджикских сомони\n",
      "Турецкая лира\n",
      "Новый туркменский манат\n",
      "Узбекских сумов\n",
      "Украинских гривен\n",
      "Чешских крон\n",
      "Шведских крон\n",
      "Швейцарский франк\n",
      "Южноафриканских рэндов\n",
      "Вон Республики Корея\n",
      "Японских иен\n"
     ]
    }
   ],
   "source": [
    "get_valute_name(url)"
   ]
  },
  {
   "cell_type": "code",
   "execution_count": null,
   "metadata": {},
   "outputs": [],
   "source": []
  }
 ],
 "metadata": {
  "kernelspec": {
   "display_name": "Python 3",
   "language": "python",
   "name": "python3"
  },
  "language_info": {
   "codemirror_mode": {
    "name": "ipython",
    "version": 3
   },
   "file_extension": ".py",
   "mimetype": "text/x-python",
   "name": "python",
   "nbconvert_exporter": "python",
   "pygments_lexer": "ipython3",
   "version": "3.7.1"
  }
 },
 "nbformat": 4,
 "nbformat_minor": 2
}
